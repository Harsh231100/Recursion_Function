{
 "cells": [
  {
   "cell_type": "markdown",
   "id": "1b31cd94",
   "metadata": {},
   "source": [
    "# Recursion Function"
   ]
  },
  {
   "cell_type": "markdown",
   "id": "c476f9fc",
   "metadata": {},
   "source": [
    "\n",
    "* Python also accepts function recursion, which means a defined function can call itself.\n",
    "\n",
    "* Recursion is a common mathematical and programming concept. It means that a function calls itself. This has the benefit of meaning that you can loop through data to reach a result."
   ]
  },
  {
   "cell_type": "code",
   "execution_count": 1,
   "id": "339c4f0e",
   "metadata": {},
   "outputs": [],
   "source": [
    "def foofact(n):\n",
    "    r = 1\n",
    "    for i in range(1,n+1):\n",
    "        r*=i\n",
    "    return r"
   ]
  },
  {
   "cell_type": "code",
   "execution_count": 3,
   "id": "35ff8e9f",
   "metadata": {},
   "outputs": [
    {
     "data": {
      "text/plain": [
       "24"
      ]
     },
     "execution_count": 3,
     "metadata": {},
     "output_type": "execute_result"
    }
   ],
   "source": [
    "foofact(4)"
   ]
  },
  {
   "cell_type": "code",
   "execution_count": 4,
   "id": "23b7cd79",
   "metadata": {},
   "outputs": [],
   "source": [
    "def fooRecFact(n):\n",
    "    \n",
    "    if n == 1:\n",
    "        return 1\n",
    "    else:\n",
    "        return n * fooRecFact(n-1)"
   ]
  },
  {
   "cell_type": "code",
   "execution_count": 5,
   "id": "2492ae33",
   "metadata": {},
   "outputs": [
    {
     "data": {
      "text/plain": [
       "120"
      ]
     },
     "execution_count": 5,
     "metadata": {},
     "output_type": "execute_result"
    }
   ],
   "source": [
    "fooRecFact(5)"
   ]
  },
  {
   "cell_type": "markdown",
   "id": "4d606636",
   "metadata": {},
   "source": [
    "## Stack Memory"
   ]
  },
  {
   "cell_type": "markdown",
   "id": "3ccd9b82",
   "metadata": {},
   "source": [
    "\n",
    "* The stack is a region of memory used for storing local variables and function call information. It operates on a Last-In-First-Out (LIFO) basis, where the most recently added item is the first to be removed.\n",
    "\n",
    "\n",
    "* The stack is generally used for variables of primitive data types, such as numbers, booleans, and characters. These variables have a fixed memory size, which is known at compile-time."
   ]
  },
  {
   "cell_type": "markdown",
   "id": "a11cfd2b",
   "metadata": {},
   "source": [
    "### Fib Series"
   ]
  },
  {
   "cell_type": "markdown",
   "id": "9b713fa3",
   "metadata": {},
   "source": [
    "* The Fibonacci numbers are the numbers in the following integer sequence. 0, 1, 1, 2, 3, 5, 8, 13, 21, 34, 55, 89, 144, …….. In mathematical terms, the sequence Fn of Fibonacci numbers is defined by the recurrence relation."
   ]
  },
  {
   "cell_type": "code",
   "execution_count": 8,
   "id": "a4a3f069",
   "metadata": {},
   "outputs": [],
   "source": [
    "def FooRecFib(n):\n",
    "    if n<=1:\n",
    "        return 1\n",
    "    else:\n",
    "        return FooRecfib(n-1)+FooRecfib(n-2)"
   ]
  },
  {
   "cell_type": "code",
   "execution_count": 10,
   "id": "3f70be23",
   "metadata": {},
   "outputs": [
    {
     "data": {
      "text/plain": [
       "1"
      ]
     },
     "execution_count": 10,
     "metadata": {},
     "output_type": "execute_result"
    }
   ],
   "source": [
    "FooRecFib(1)"
   ]
  },
  {
   "cell_type": "code",
   "execution_count": 12,
   "id": "5fb14889",
   "metadata": {},
   "outputs": [],
   "source": [
    "def fooRecFib(n):\n",
    "    if n <= 1:\n",
    "        return n\n",
    "    else:\n",
    "        return fooRecFib(n-1) + fooRecFib(n-2)"
   ]
  },
  {
   "cell_type": "code",
   "execution_count": 13,
   "id": "8ab95190",
   "metadata": {},
   "outputs": [
    {
     "data": {
      "text/plain": [
       "2"
      ]
     },
     "execution_count": 13,
     "metadata": {},
     "output_type": "execute_result"
    }
   ],
   "source": [
    "fooRecFib(3)"
   ]
  },
  {
   "cell_type": "code",
   "execution_count": 14,
   "id": "3ea27c09",
   "metadata": {},
   "outputs": [
    {
     "name": "stdout",
     "output_type": "stream",
     "text": [
      "0, 1, 1, 2, 3, "
     ]
    }
   ],
   "source": [
    "for i in range(5):\n",
    "    print(fooRecFib(i), end = ', ')"
   ]
  },
  {
   "cell_type": "code",
   "execution_count": 15,
   "id": "398a5a97",
   "metadata": {},
   "outputs": [],
   "source": [
    "def fooRecFib(n):\n",
    "    if n <= 0:\n",
    "        return 0\n",
    "    elif n == 1:\n",
    "        return 1\n",
    "    else:\n",
    "        return fooRecFib(n-1)+fooRecFib(n-2)"
   ]
  },
  {
   "cell_type": "code",
   "execution_count": 17,
   "id": "19b122be",
   "metadata": {},
   "outputs": [
    {
     "data": {
      "text/plain": [
       "8"
      ]
     },
     "execution_count": 17,
     "metadata": {},
     "output_type": "execute_result"
    }
   ],
   "source": [
    "fooRecFib(6)"
   ]
  },
  {
   "cell_type": "markdown",
   "id": "c525279c",
   "metadata": {},
   "source": [
    "### *args"
   ]
  },
  {
   "cell_type": "markdown",
   "id": "221847ea",
   "metadata": {},
   "source": [
    "* The special syntax *args in function definitions in Python is used to pass a variable number of arguments to a function. It is used to pass a non-keyworded, variable-length argument list. \n",
    "\n",
    "* The syntax is to use the symbol * to take in a variable number of arguments; by convention, it is often used with the word args.\n",
    "\n",
    "* What *args allows you to do is take in more arguments than the number of formal arguments that you previously defined. With *args, any number of extra arguments can be tacked on to your current formal parameters (including zero extra arguments).\n",
    "\n",
    "* For example, we want to make a multiply function that takes any number of arguments and is able to multiply them all together. It can be done using *args.\n",
    "\n",
    "* Using the *, the variable that we associate with the * becomes iterable meaning you can do things like iterate over it, run some higher-order functions such as map and filter, etc."
   ]
  },
  {
   "cell_type": "code",
   "execution_count": 18,
   "id": "bb462222",
   "metadata": {},
   "outputs": [],
   "source": [
    "def foo(a, b, c = 0, *args, **kwargs):\n",
    "    r = a+b+c\n",
    "    for args in args:\n",
    "        r+=args\n",
    "    return r"
   ]
  },
  {
   "cell_type": "code",
   "execution_count": 19,
   "id": "5e09ee45",
   "metadata": {},
   "outputs": [
    {
     "data": {
      "text/plain": [
       "21"
      ]
     },
     "execution_count": 19,
     "metadata": {},
     "output_type": "execute_result"
    }
   ],
   "source": [
    "foo(1,2,3, *(4, 5, 6) )"
   ]
  },
  {
   "cell_type": "code",
   "execution_count": null,
   "id": "c491b2e2",
   "metadata": {},
   "outputs": [],
   "source": [
    "def foo(a, b, c = 0, *args, **kwargs):\n",
    "    r = a+b+c\n",
    "    for args in args:\n",
    "        r+=args\n",
    "    return r  "
   ]
  },
  {
   "cell_type": "code",
   "execution_count": 21,
   "id": "11ff6c12",
   "metadata": {},
   "outputs": [
    {
     "data": {
      "text/plain": [
       "39"
      ]
     },
     "execution_count": 21,
     "metadata": {},
     "output_type": "execute_result"
    }
   ],
   "source": [
    "foo(4,5,6, *(7,8,9) )"
   ]
  },
  {
   "cell_type": "markdown",
   "id": "eb00d405",
   "metadata": {},
   "source": [
    "### **kwargs"
   ]
  },
  {
   "cell_type": "markdown",
   "id": "ee9f3971",
   "metadata": {},
   "source": [
    "* The special syntax **kwargs in function definitions in Python is used to pass a keyworded, variable-length argument list. We use the name kwargs with the double star. The reason is that the double star allows us to pass through keyword arguments (and any number of them).\n",
    "\n",
    "* A keyword argument is where you provide a name to the variable as you pass it into the function.\n",
    "* One can think of the kwargs as being a dictionary that maps each keyword to the value that we pass alongside it. That is why when we iterate over the kwargs there doesn’t seem to be any order in which they were printed out."
   ]
  },
  {
   "cell_type": "code",
   "execution_count": 22,
   "id": "8b3c00bc",
   "metadata": {},
   "outputs": [],
   "source": [
    "def foo(a, b , c = 0, *args,**kwargs):\n",
    "    r = a+b+c\n",
    "    for arg in args:\n",
    "        r+=arg\n",
    "        \n",
    "    for kwarg in kwargs:\n",
    "        print(kwargs[kwarg])\n",
    "    return r"
   ]
  },
  {
   "cell_type": "code",
   "execution_count": 27,
   "id": "1624b9c3",
   "metadata": {},
   "outputs": [
    {
     "name": "stdout",
     "output_type": "stream",
     "text": [
      "[11, 22, 33]\n"
     ]
    },
    {
     "data": {
      "text/plain": [
       "231"
      ]
     },
     "execution_count": 27,
     "metadata": {},
     "output_type": "execute_result"
    }
   ],
   "source": [
    "foo(11,22,33, *(44,55,66),**{'marks':[11,22,33]})"
   ]
  },
  {
   "cell_type": "code",
   "execution_count": 24,
   "id": "185e84b9",
   "metadata": {},
   "outputs": [],
   "source": [
    "def fooStuMarks(**kwargs):\n",
    "    for kwarg in kwargs:\n",
    "        print(f'Total Marks scored by {kwarg} is {sum(kwargs[kwarg])}')"
   ]
  },
  {
   "cell_type": "code",
   "execution_count": 26,
   "id": "df0913bc",
   "metadata": {},
   "outputs": [
    {
     "name": "stdout",
     "output_type": "stream",
     "text": [
      "Total Marks scored by harsh is 60\n",
      "Total Marks scored by neha is 60\n",
      "Total Marks scored by rohit is 60\n"
     ]
    }
   ],
   "source": [
    "fooStuMarks(**{'harsh':(10,20,30),\n",
    "               'neha':[30,20,10],\n",
    "               'rohit':{10,20,30}\n",
    "              })"
   ]
  },
  {
   "cell_type": "code",
   "execution_count": null,
   "id": "7e309fbc",
   "metadata": {},
   "outputs": [],
   "source": []
  }
 ],
 "metadata": {
  "kernelspec": {
   "display_name": "Python 3 (ipykernel)",
   "language": "python",
   "name": "python3"
  },
  "language_info": {
   "codemirror_mode": {
    "name": "ipython",
    "version": 3
   },
   "file_extension": ".py",
   "mimetype": "text/x-python",
   "name": "python",
   "nbconvert_exporter": "python",
   "pygments_lexer": "ipython3",
   "version": "3.11.5"
  }
 },
 "nbformat": 4,
 "nbformat_minor": 5
}
